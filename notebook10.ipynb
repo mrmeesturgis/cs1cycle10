{
 "cells": [
  {
   "cell_type": "markdown",
   "id": "d8bba665",
   "metadata": {},
   "source": [
    "<img src=\"https://www.sturgischarterschool.com/wp-content/uploads/2019/06/sturgisheader_logo.png\" alt=\"sturgis\" width=\"250\" align=\"right\"/>\n",
    "\n",
    "## Computer Science 'GUIs' notebook 10\n",
    "### Sturgis Charter Public School \n",
    "\n"
   ]
  },
  {
   "cell_type": "markdown",
   "id": "681696fb",
   "metadata": {},
   "source": [
    "Student: [your name here]\n",
    "\n",
    "Collaborators: [N/A]\n",
    "\n",
    "Notes to the teacher: [N/A]"
   ]
  },
  {
   "cell_type": "markdown",
   "id": "16bf0839",
   "metadata": {},
   "source": [
    "### Learning Objectives for notebook \n",
    "* [GUI basics](https://realpython.com/python-gui-tkinter/) (Referenced extensively for this notebook--thank you realpython!) \n",
    "* [Embedding an image in a GUI background](https://www.activestate.com/resources/quick-reads/how-to-add-images-in-tkinter/)\n",
    "\n",
    "Amos, D. (2022, July 18). Python GUI programming with Tkinter. Real Python. Retrieved January 4, 2023, from https://realpython.com/python-gui-tkinter/ \n",
    "\n",
    "### Do you have the necessary packages installed?\n",
    "\n",
    "A simple run of the imports below should tell you if you have everything that you need. If that cell does not run, then you will need to do the following. Because `tkinter` is natively installed with Python installing that might be a [little more involved.](https://www.activestate.com/resources/quick-reads/how-to-install-tkinter-in-windows/) \n",
    "\n",
    "For the PIL import you will need to do the following: `pip install pillow`\n",
    "\n",
    "But again, see if you already have all these packages natively installed with Python. \n",
    "\n",
    "### What's a widget? \n",
    "\n",
    "I'm glad you asked. \"An application, or a component of an interface, that enables a user to perform a function or access a service.\"--Thanks, Google!\n",
    "\n",
    "We're going to focus on some of the main ones for tkinter, seen below. \n",
    "\n",
    "![Widgets](widgets.png)"
   ]
  },
  {
   "cell_type": "code",
   "execution_count": null,
   "id": "fb3eb272",
   "metadata": {},
   "outputs": [],
   "source": [
    "import tkinter as tk\n",
    "import tkinter.ttk as ttk\n",
    "from PIL import ImageTk, Image"
   ]
  },
  {
   "cell_type": "markdown",
   "id": "de5b1f00",
   "metadata": {},
   "source": [
    "### 0. Window\n",
    "Let's start at the simplest. Let's just make a window. A window that does nothing!"
   ]
  },
  {
   "cell_type": "code",
   "execution_count": null,
   "id": "1a53af65",
   "metadata": {},
   "outputs": [],
   "source": [
    "window = tk.Tk()\n",
    "\n",
    "window.mainloop()\n"
   ]
  },
  {
   "cell_type": "markdown",
   "id": "16bad265",
   "metadata": {},
   "source": [
    "### 1. Label\n",
    "Let's talk about labels. If you want to put text or an image into your GUI what does that look like?"
   ]
  },
  {
   "cell_type": "code",
   "execution_count": null,
   "id": "c228ed1d",
   "metadata": {},
   "outputs": [],
   "source": [
    "#Careful this will run as many times as you run the cell, but is waiting for the mainloop. They can stack!\n",
    "lpractice = tk.Tk()\n",
    "\n",
    "label = tk.Label(\n",
    "    text=\"Hello, Tkinter\",\n",
    "    fg=\"white\",\n",
    "    bg=\"black\",\n",
    "    width=20,\n",
    "    height=20\n",
    ")\n",
    "label.pack()\n",
    "lpractice.mainloop()"
   ]
  },
  {
   "cell_type": "markdown",
   "id": "09aa63f7",
   "metadata": {},
   "source": [
    "### 1.5 Using images as Labels\n",
    "\n",
    "Now what if you wanted to embed an image into your GUI? Well, with the pillow we can do just that. "
   ]
  },
  {
   "cell_type": "code",
   "execution_count": null,
   "id": "17a156e1",
   "metadata": {},
   "outputs": [],
   "source": [
    "root = tk.Tk()\n",
    "#root.geometry(\"500x800\") This can set the dimensions of the window.\n",
    "s1 = Image.open(\"dsnow2.png\")\n",
    "snow = ImageTk.PhotoImage(s1)\n",
    "\n",
    "label1 = tk.Label(image=snow)\n",
    "\n",
    "label1.pack() #see also label1.place(x=0, y=0)\n",
    "root.mainloop()"
   ]
  },
  {
   "cell_type": "markdown",
   "id": "c51f6a85",
   "metadata": {},
   "source": [
    "### 2. Button\n",
    "\n",
    "Now let's try a button. "
   ]
  },
  {
   "cell_type": "code",
   "execution_count": null,
   "id": "e4b22b43",
   "metadata": {},
   "outputs": [],
   "source": [
    "bpractice = tk.Tk()\n",
    "button = tk.Button(\n",
    "    text=\"Click me!\",\n",
    "    width=25,\n",
    "    height=5,\n",
    "    bg=\"gray\",\n",
    "    fg=\"white\",\n",
    ")\n",
    "button.pack()\n",
    "bpractice.mainloop()"
   ]
  },
  {
   "cell_type": "markdown",
   "id": "012d023a",
   "metadata": {},
   "source": [
    "### 3. Entry\n",
    "\n",
    "Now let's write some text. This one is a little trickier, because we now have input that we want to catch. To accomplish this I have a button which captures the entry at the point of clicking the button. Otherwise the text entry is captured before I have a chance to write anything. "
   ]
  },
  {
   "cell_type": "code",
   "execution_count": null,
   "id": "dc5891d4",
   "metadata": {},
   "outputs": [],
   "source": [
    "epractice = tk.Tk()\n",
    "label = tk.Label(text=\"Type something\")\n",
    "label.pack()\n",
    "tester = tk.StringVar()\n",
    "def practice():\n",
    "    name = entry.get()\n",
    "    print(\"What you wrote is '\" + name + \"'\")\n",
    "entry = tk.Entry(textvariable = tester, fg=\"black\", bg=\"white\", width=50)\n",
    "\n",
    "ebutton = tk.Button(text = \"practice\", command = practice)\n",
    "\n",
    "entry.pack()\n",
    "ebutton.pack()\n",
    "epractice.mainloop()\n"
   ]
  },
  {
   "cell_type": "markdown",
   "id": "c8436bb3",
   "metadata": {},
   "source": [
    "### 4. Text Box\n",
    "You can also do multi-line text."
   ]
  },
  {
   "cell_type": "code",
   "execution_count": null,
   "id": "4e268d9c",
   "metadata": {},
   "outputs": [],
   "source": [
    "tbpractice = tk.Tk()\n",
    "\n",
    "tester = tk.StringVar()\n",
    "\n",
    "text_box = tk.Text()\n",
    "\n",
    "def tb_practice():\n",
    "    name = text_box.get(\"1.0\",\"end-1c\")\n",
    "    print(\"What you wrote is: \" + name)\n",
    "tbbutton = tk.Button(text = \"practice\", command = tb_practice)\n",
    "text_box.pack()\n",
    "tbbutton.pack()\n",
    "tbpractice.mainloop()"
   ]
  },
  {
   "cell_type": "markdown",
   "id": "baebff30",
   "metadata": {},
   "source": [
    "### 5. Frames\n",
    "Frames are what is going to allow us to coordinate these different elements in a single window. You'll note that we've already coordinated some elements, namely a label or a button and a text box or entry, but what if we want to more explicitly control where different elements go? Enter Frames. "
   ]
  },
  {
   "cell_type": "code",
   "execution_count": null,
   "id": "d8dd619b",
   "metadata": {},
   "outputs": [],
   "source": [
    "examples = list(range(9))\n",
    "print(examples)\n",
    "\n",
    "fpr = tk.Tk()\n",
    "fm = tk.Frame(master=fpr)\n",
    "fm.pack(side = tk.LEFT) #Play around with this one, try: LEFT, RIGHT, TOP, BOTTOM\n",
    "for example in examples:\n",
    "    frame = tk.Frame(master=fm, borderwidth=5)\n",
    "    frame.pack(side=tk.RIGHT) #Play around with this one as well\n",
    "    label = tk.Label(master=frame, text=example)\n",
    "    label.pack()\n",
    "\n",
    "fpr.mainloop()"
   ]
  },
  {
   "cell_type": "markdown",
   "id": "d2baa5f1",
   "metadata": {},
   "source": [
    "### 6. Grids & Frames\n",
    "There are three ways to place widgets on your window. The first we've used up to this point: pack(), but there is also place(), which needs to know a pixel X Y coordinate to place, and finally there is grid(). We're going to focus on grid. "
   ]
  },
  {
   "cell_type": "code",
   "execution_count": null,
   "id": "5669dd8e",
   "metadata": {},
   "outputs": [],
   "source": [
    "grex = tk.Tk()\n",
    "\n",
    "images = [\"images/p5.jpg\", \"images/p3.jpeg\", \"images/p4.jpeg\"]\n",
    "\n",
    "imgs=[]\n",
    "for i in range(3):\n",
    "    grex.columnconfigure(i, weight=1, minsize=75)\n",
    "    grex.rowconfigure(i, weight=1, minsize=50)\n",
    "\n",
    "    for j in range(0, 3):\n",
    "        frame = tk.Frame(\n",
    "            master=grex,\n",
    "            relief=tk.RAISED,\n",
    "            borderwidth=1\n",
    "        )\n",
    "        frame.grid(row=i, column=j, padx=5, pady=5)\n",
    "        imgs.append(ImageTk.PhotoImage(Image.open(images[i])))\n",
    "        label = tk.Label(master=frame, image=imgs[-1])\n",
    "        label.pack(padx=5, pady=5)\n",
    "\n",
    "grex.mainloop()\n",
    "#For whatever reason if there has been an error, then this cell won't work. It's something about the call for the image.\n",
    "#The easiest fix is to restart and run all. "
   ]
  },
  {
   "cell_type": "markdown",
   "id": "254ca0de",
   "metadata": {},
   "source": [
    "### 6. Events and Event Handlers\n",
    "We, of course want our GUI to be interactive. We've touched on this a little bit already, but let's make this a little more robust. Let's make our GUI know when we press a keystroke or click. "
   ]
  },
  {
   "cell_type": "code",
   "execution_count": null,
   "id": "437c6e63",
   "metadata": {},
   "outputs": [],
   "source": [
    "window = tk.Tk()\n",
    "\n",
    "def handle_keypress(event):\n",
    "    \"\"\"Print the character associated to the key pressed\"\"\"\n",
    "    print(event.char)\n",
    "def handle_lclick(event):\n",
    "    print(\"You clicked the button\")\n",
    "\n",
    "# Bind keypress event to handle_keypress()\n",
    "window.bind(\"<Key>\", handle_keypress)\n",
    "window.bind(\"<Button-1>\", handle_lclick)\n",
    "\n",
    "window.mainloop()\n",
    "#Type some keys and see what happens. "
   ]
  },
  {
   "cell_type": "markdown",
   "id": "73723a23",
   "metadata": {},
   "source": [
    "### 7. Command\n",
    "\n",
    "Now what if we wanted to have a function that did something on one button, and something else on another button. We can do that!"
   ]
  },
  {
   "cell_type": "code",
   "execution_count": null,
   "id": "580f7c8a",
   "metadata": {},
   "outputs": [],
   "source": [
    "images = [\"images/p5.jpg\", \"images/p3.jpeg\", \"images/p4.jpeg\"]\n",
    "imgs = []\n",
    "def increase():\n",
    "    value = int(lbl_value[\"text\"])\n",
    "    lbl_value[\"text\"] = f\"{value + 1}\"\n",
    "\n",
    "def decrease():\n",
    "    value = int(lbl_value[\"text\"])\n",
    "    lbl_value[\"text\"] = f\"{value - 1}\"\n",
    "\n",
    "window = tk.Tk()\n",
    "\n",
    "window.rowconfigure(0, minsize=50, weight=1)\n",
    "window.columnconfigure([0, 1, 2], minsize=50, weight=1)\n",
    "\n",
    "imgs.append(ImageTk.PhotoImage(Image.open(images[0])))\n",
    "btn_decrease = tk.Button(master=window, image=imgs[-1], command=decrease)\n",
    "btn_decrease.grid(row=0, column=0, sticky=\"nsew\")\n",
    "\n",
    "lbl_value = tk.Label(master=window, text=\"0\")\n",
    "lbl_value.grid(row=0, column=1)\n",
    "\n",
    "imgs.append(ImageTk.PhotoImage(Image.open(images[1])))\n",
    "btn_increase = tk.Button(master=window, image=imgs[-1], command=increase)\n",
    "btn_increase.grid(row=0, column=2, sticky=\"nsew\")\n",
    "\n",
    "window.mainloop()"
   ]
  },
  {
   "cell_type": "markdown",
   "id": "6afc3de0",
   "metadata": {},
   "source": [
    "### Question 1: Putting it all together\n",
    "\n",
    "Use any and all of this to make your own awesome and clever GUI. It might have a function, it might not. But it should demonstrate several different widgets. "
   ]
  },
  {
   "cell_type": "code",
   "execution_count": null,
   "id": "4e5b752d",
   "metadata": {},
   "outputs": [],
   "source": [
    "#Your code for your GUI here"
   ]
  }
 ],
 "metadata": {
  "kernelspec": {
   "display_name": "Python 3 (ipykernel)",
   "language": "python",
   "name": "python3"
  },
  "language_info": {
   "codemirror_mode": {
    "name": "ipython",
    "version": 3
   },
   "file_extension": ".py",
   "mimetype": "text/x-python",
   "name": "python",
   "nbconvert_exporter": "python",
   "pygments_lexer": "ipython3",
   "version": "3.9.7"
  }
 },
 "nbformat": 4,
 "nbformat_minor": 5
}
